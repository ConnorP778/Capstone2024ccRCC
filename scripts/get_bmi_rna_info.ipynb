{
 "cells": [
  {
   "cell_type": "code",
   "execution_count": 2,
   "metadata": {},
   "outputs": [],
   "source": [
    "import pandas as pd\n",
    "import numpy as np\n"
   ]
  },
  {
   "cell_type": "code",
   "execution_count": 3,
   "metadata": {},
   "outputs": [],
   "source": [
    "#Load in sample phenotype data\n",
    "data = pd.read_csv('/Users/carternorton/Desktop/RCC/KIRC_Phenotype.csv', sep=',', header=0, index_col=0)"
   ]
  },
  {
   "cell_type": "code",
   "execution_count": 4,
   "metadata": {},
   "outputs": [
    {
     "name": "stdout",
     "output_type": "stream",
     "text": [
      "Index(['Mutation Data?', 'Institute', 'Systemic Treatment', 'TC',\n",
      "       'Age at Diagnosis', 'Race', 'Ethnicity', 'Year of Collection',\n",
      "       'PriorTumor (Y/N)', 'Presentation', 'Mets at Time of Surgery',\n",
      "       'Location Mets_time of Surgery', 'Laterality', 'Tumor Grade',\n",
      "       'Max Tumor Dimension', 'T Stage', 'Pathologic Lymph Nodes',\n",
      "       'Pathologic Distant Metastasis', 'Tumor Stage',\n",
      "       'Tumor Status-Tissue Collection', 'Vital Status-Enrollment',\n",
      "       'Tumor Status-Last Followup', 'Vital Status Followup',\n",
      "       'Days to New Tumor Event-Followup', 'Recurrence Location(s)',\n",
      "       'Death From RCC?', 'Days to Last followup',\n",
      "       'Days to Death-Last Followup', 'KPS', 'ECOG PS', 'HTN', 'DM',\n",
      "       'Hyperchol', 'BMI', 'Smoking Status', 'CPD', 'Smoking Duration',\n",
      "       'Year Quit Smoking', 'Cancer Hx (Type)', 'RCC Family Hx', 'Creatinine',\n",
      "       'CPK-EPI', 'LDH', 'Erythrocyte Sed Rate', 'Calcium', 'White Cell Count',\n",
      "       'Hemoglobin', 'Platelets', 'Sample Weight', 'Tumor Nuclei',\n",
      "       'Percent Necrosis'],\n",
      "      dtype='object')\n"
     ]
    }
   ],
   "source": [
    "print(data.columns)"
   ]
  },
  {
   "cell_type": "code",
   "execution_count": 8,
   "metadata": {},
   "outputs": [
    {
     "name": "stdout",
     "output_type": "stream",
     "text": [
      "52 samples are missing BMI data\n"
     ]
    }
   ],
   "source": [
    "#Let's isolate bmi \n",
    "bmi = data[['BMI',\"TC\", \"Age at Diagnosis\"]]\n",
    "\n",
    "#Rename Age at Diagnosis\n",
    "bmi.rename(columns={\"Age at Diagnosis\":\"Age\"})\n",
    "\n",
    "#How many samples are missing BMI data?\n",
    "print(bmi[\"BMI\"].isnull().sum(), \"samples are missing BMI data\")\n",
    "\n",
    "#Let's drop those samples\n",
    "bmi = bmi.dropna()\n"
   ]
  },
  {
   "cell_type": "code",
   "execution_count": 9,
   "metadata": {},
   "outputs": [],
   "source": [
    "#Define BMI categories\n",
    "bmi[\"bmi\"] = np.where(bmi[\"BMI\"] < 25, \"normal\", np.where(bmi[\"BMI\"] < 30, \"overweight\", \"obese\"))\n",
    "\n",
    "bmi[\"bmi\"] = np.where(bmi[\"BMI\"] < 18.5, \"underweight\", bmi[\"bmi\"])\n",
    "\n",
    "bmi.drop(columns=['BMI'], inplace=True)\n"
   ]
  },
  {
   "cell_type": "code",
   "execution_count": 10,
   "metadata": {},
   "outputs": [],
   "source": [
    "#Let's select for MRNA data from these patients\n",
    "mrna = pd.read_csv('/Users/carternorton/Desktop/RCC/xena/TCGA-KIRC.htseq_counts.tsv', sep='\\t', header=0, index_col=0)\n",
    "\n",
    "#Remove any columns that don't end in -01\n",
    "mrna = mrna[mrna.columns[mrna.columns.str.endswith('-01A')]]\n",
    "\n",
    "#Now remove the -01 from the column names\n",
    "mrna.columns = mrna.columns.str.replace('-01A', '')"
   ]
  },
  {
   "cell_type": "code",
   "execution_count": 11,
   "metadata": {},
   "outputs": [
    {
     "name": "stdout",
     "output_type": "stream",
     "text": [
      "325 samples have both BMI and mRNA data\n"
     ]
    }
   ],
   "source": [
    "samples = bmi.index.tolist()\n",
    "\n",
    "samples = [x for x in samples if x in mrna.columns.tolist()]\n",
    "\n",
    "print(len(samples), \"samples have both BMI and mRNA data\")\n",
    "\n",
    "mrna = mrna[samples]\n",
    "\n",
    "bmi = bmi.loc[samples]\n"
   ]
  },
  {
   "cell_type": "code",
   "execution_count": 12,
   "metadata": {},
   "outputs": [
    {
     "name": "stdout",
     "output_type": "stream",
     "text": [
      "There are 60488 rows and 325 columns in the mrna dataframe\n",
      "There are now 60488 rows and 325 columns in the mrna dataframe\n"
     ]
    }
   ],
   "source": [
    "#Let's clean up the mrna table\n",
    "#Remove duplicated mrna indices (both the hugo and entrez ids are duplicated it seems)\n",
    "mrna = mrna[~mrna.index.duplicated(keep='first')]\n",
    "\n",
    "#Next, remove all rows that are entirely NaN\n",
    "print(\"There are\", mrna.shape[0], \"rows and\", mrna.shape[1], \"columns in the mrna dataframe\")\n",
    "mrna = mrna.dropna(how='all')\n",
    "print(\"There are now\", mrna.shape[0], \"rows and\", mrna.shape[1], \"columns in the mrna dataframe\")"
   ]
  },
  {
   "cell_type": "code",
   "execution_count": 13,
   "metadata": {},
   "outputs": [],
   "source": [
    "#Let's save bmi data\n",
    "#Let's replace index with \"-\" with \".\"\n",
    "bmi.index = bmi.index.str.replace('-', '.')\n",
    "bmi.to_csv('/Users/carternorton/Desktop/RCC/KIRC_BMI.csv', sep=',', header=True, index=True)"
   ]
  },
  {
   "cell_type": "code",
   "execution_count": 14,
   "metadata": {},
   "outputs": [
    {
     "name": "stdout",
     "output_type": "stream",
     "text": [
      "There were 0 duplicated gene indices\n"
     ]
    }
   ],
   "source": [
    "#Let's save this data\n",
    "#Remove duplicated mrna indices\n",
    "gene_count = len(mrna.index.tolist())\n",
    "mrna = mrna[~mrna.index.duplicated(keep='first')]\n",
    "print(\"There were\", gene_count - len(mrna.index.tolist()), \"duplicated gene indices\")\n",
    "\n",
    "#Remove any index that starts with __\n",
    "mrna = mrna[~mrna.index.str.startswith('__')]\n",
    "\n",
    "#this data was log2 (x+1) transformed, so let's reverse that\n",
    "mrna = np.power(2, mrna) - 1\n",
    "#Let's convert to integers\n",
    "mrna = mrna.astype(int)\n"
   ]
  },
  {
   "cell_type": "code",
   "execution_count": 15,
   "metadata": {},
   "outputs": [],
   "source": [
    "#Let's save this data\n",
    "mrna.to_csv('/Users/carternorton/Desktop/RCC/KIRC_mRNA_BMI.csv', sep=',', header=True, index=True)"
   ]
  }
 ],
 "metadata": {
  "kernelspec": {
   "display_name": "rcc",
   "language": "python",
   "name": "python3"
  },
  "language_info": {
   "codemirror_mode": {
    "name": "ipython",
    "version": 3
   },
   "file_extension": ".py",
   "mimetype": "text/x-python",
   "name": "python",
   "nbconvert_exporter": "python",
   "pygments_lexer": "ipython3",
   "version": "3.12.1"
  }
 },
 "nbformat": 4,
 "nbformat_minor": 2
}
