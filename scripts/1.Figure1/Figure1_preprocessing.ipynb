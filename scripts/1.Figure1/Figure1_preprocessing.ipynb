{
 "cells": [
  {
   "cell_type": "code",
   "execution_count": 1,
   "metadata": {},
   "outputs": [],
   "source": [
    "import pandas as pd\n",
    "import numpy as np\n"
   ]
  },
  {
   "cell_type": "code",
   "execution_count": 2,
   "metadata": {},
   "outputs": [],
   "source": [
    "base_dir = '/Users/carternorton/repo/GitHub/Capstone2024ccRCC/'"
   ]
  },
  {
   "cell_type": "code",
   "execution_count": 3,
   "metadata": {},
   "outputs": [],
   "source": [
    "#Load in sample phenotype data\n",
    "data = pd.read_csv(f\"{base_dir}/Input/TCGA_&_Clinical_Data.tsv\", sep='\\t', header=0, index_col=0)"
   ]
  },
  {
   "cell_type": "code",
   "execution_count": 4,
   "metadata": {},
   "outputs": [
    {
     "name": "stdout",
     "output_type": "stream",
     "text": [
      "196 samples are missing BMI data\n"
     ]
    },
    {
     "name": "stderr",
     "output_type": "stream",
     "text": [
      "/var/folders/fy/g3vg0xm938s6_s01vp3cs88w0000gn/T/ipykernel_94747/4141183957.py:5: SettingWithCopyWarning: \n",
      "A value is trying to be set on a copy of a slice from a DataFrame\n",
      "\n",
      "See the caveats in the documentation: https://pandas.pydata.org/pandas-docs/stable/user_guide/indexing.html#returning-a-view-versus-a-copy\n",
      "  bmi.rename(columns={\"Age at Diagnosis (Clinical)\":\"Age\", \"Sex (TCGA)\" : \"TC\", \"BMI Group\":\"bmi\"}, inplace=True)\n"
     ]
    }
   ],
   "source": [
    "#Let's isolate bmi \n",
    "bmi = data[['BMI Group',\"Sex (TCGA)\", \"Age at Diagnosis (Clinical)\"]]\n",
    "\n",
    "#Rename Age at Diagnosis\n",
    "bmi.rename(columns={\"Age at Diagnosis (Clinical)\":\"Age\", \"Sex (TCGA)\" : \"TC\", \"BMI Group\":\"bmi\"}, inplace=True)\n",
    "\n",
    "#How many samples are missing BMI data?\n",
    "print(bmi[\"bmi\"].isnull().sum(), \"samples are missing BMI data\")\n",
    "\n",
    "\n",
    "#Let's drop those samples\n",
    "bmi = bmi.dropna()\n"
   ]
  },
  {
   "cell_type": "code",
   "execution_count": 5,
   "metadata": {},
   "outputs": [],
   "source": [
    "#Let's select for MRNA data from these patients\n",
    "mrna = pd.read_csv(f'{base_dir}/Input/TCGA-KIRC.htseq_counts.tsv', sep='\\t', header=0, index_col=0)\n",
    "\n",
    "#Remove any columns that don't end in -01\n",
    "mrna = mrna[mrna.columns[mrna.columns.str.endswith('-01A')]]\n",
    "\n",
    "#Now remove the -01 from the column names\n",
    "mrna.columns = mrna.columns.str.replace('-01A', '')"
   ]
  },
  {
   "cell_type": "code",
   "execution_count": 6,
   "metadata": {},
   "outputs": [
    {
     "name": "stdout",
     "output_type": "stream",
     "text": [
      "312 samples have both BMI and mRNA data\n"
     ]
    }
   ],
   "source": [
    "samples = bmi.index.tolist()\n",
    "\n",
    "samples = [x for x in samples if x in mrna.columns.tolist()]\n",
    "\n",
    "print(len(samples), \"samples have both BMI and mRNA data\")\n",
    "\n",
    "mrna = mrna[samples]\n",
    "\n",
    "bmi = bmi.loc[samples]\n"
   ]
  },
  {
   "cell_type": "code",
   "execution_count": 7,
   "metadata": {},
   "outputs": [
    {
     "name": "stdout",
     "output_type": "stream",
     "text": [
      "There are 60488 rows and 312 columns in the mrna dataframe\n",
      "There are now 60488 rows and 312 columns in the mrna dataframe\n"
     ]
    }
   ],
   "source": [
    "#Let's clean up the mrna table\n",
    "#Remove duplicated mrna indices (both the hugo and entrez ids are duplicated it seems)\n",
    "mrna = mrna[~mrna.index.duplicated(keep='first')]\n",
    "\n",
    "#Next, remove all rows that are entirely NaN\n",
    "print(\"There are\", mrna.shape[0], \"rows and\", mrna.shape[1], \"columns in the mrna dataframe\")\n",
    "mrna = mrna.dropna(how='all')\n",
    "print(\"There are now\", mrna.shape[0], \"rows and\", mrna.shape[1], \"columns in the mrna dataframe\")"
   ]
  },
  {
   "cell_type": "code",
   "execution_count": 12,
   "metadata": {},
   "outputs": [],
   "source": [
    "#Let's save bmi data\n",
    "#Let's replace index with \"-\" with \".\"\n",
    "bmi.index = bmi.index.str.replace('-', '.')\n",
    "bmi.to_csv(f'{base_dir}scripts/1.Figure1/Figure1_BMI.csv', sep=',', header=True, index=True)"
   ]
  },
  {
   "cell_type": "code",
   "execution_count": 13,
   "metadata": {},
   "outputs": [
    {
     "name": "stdout",
     "output_type": "stream",
     "text": [
      "There were 0 duplicated gene indices\n"
     ]
    }
   ],
   "source": [
    "#Let's save this data\n",
    "#Remove duplicated mrna indices\n",
    "gene_count = len(mrna.index.tolist())\n",
    "mrna = mrna[~mrna.index.duplicated(keep='first')]\n",
    "print(\"There were\", gene_count - len(mrna.index.tolist()), \"duplicated gene indices\")\n",
    "\n",
    "#Remove any index that starts with __\n",
    "mrna = mrna[~mrna.index.str.startswith('__')]\n",
    "\n",
    "#this data was log2 (x+1) transformed, so let's reverse that\n",
    "mrna = np.power(2, mrna) - 1\n",
    "#Let's convert to integers\n",
    "mrna = mrna.astype(int)\n"
   ]
  },
  {
   "cell_type": "code",
   "execution_count": 14,
   "metadata": {},
   "outputs": [],
   "source": [
    "#Let's save this data\n",
    "mrna.to_csv(f'{base_dir}/scripts/1.Figure1/KIRC_mRNA_BMI.csv', sep=',', header=True, index=True)"
   ]
  }
 ],
 "metadata": {
  "kernelspec": {
   "display_name": "rcc",
   "language": "python",
   "name": "python3"
  },
  "language_info": {
   "codemirror_mode": {
    "name": "ipython",
    "version": 3
   },
   "file_extension": ".py",
   "mimetype": "text/x-python",
   "name": "python",
   "nbconvert_exporter": "python",
   "pygments_lexer": "ipython3",
   "version": "3.12.1"
  }
 },
 "nbformat": 4,
 "nbformat_minor": 2
}
