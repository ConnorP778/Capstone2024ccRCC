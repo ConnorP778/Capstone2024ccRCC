{
 "cells": [
  {
   "cell_type": "code",
   "execution_count": 1,
   "metadata": {},
   "outputs": [],
   "source": [
    "import pandas as pd\n",
    "import numpy as np"
   ]
  },
  {
   "cell_type": "code",
   "execution_count": 2,
   "metadata": {},
   "outputs": [],
   "source": [
    "data = pd.read_csv('/Users/carternorton/Desktop/RCC/KIRC_Phenotype.csv', index_col=0)"
   ]
  },
  {
   "cell_type": "code",
   "execution_count": 3,
   "metadata": {},
   "outputs": [
    {
     "name": "stdout",
     "output_type": "stream",
     "text": [
      "389\n"
     ]
    },
    {
     "data": {
      "image/png": "[encoded data removed]",
      "text/plain": [
       "<Figure size 640x480 with 1 Axes>"
      ]
     },
     "metadata": {},
     "output_type": "display_data"
    }
   ],
   "source": [
    "print(len(data[\"BMI\"]))\n",
    "pd.isna(data[\"BMI\"]).sum()\n",
    "\n",
    "#Let's print a histogram of the BMI data\n",
    "import matplotlib.pyplot as plt\n",
    "plt.hist(data[\"BMI\"])\n",
    "plt.show()\n",
    "\n"
   ]
  },
  {
   "cell_type": "code",
   "execution_count": 5,
   "metadata": {},
   "outputs": [
    {
     "name": "stdout",
     "output_type": "stream",
     "text": [
      "4\n",
      "68\n",
      "112\n",
      "86\n",
      "40\n",
      "27\n"
     ]
    }
   ],
   "source": [
    "# Class I obesity: 30 to &lt; 35\n",
    "# Class II obesity: 35 to &lt; 40\n",
    "# Class III obesity: 40 or &gt;\n",
    "\n",
    "print(len(data[(data[\"BMI\"] < 18.5)])) \n",
    "print(len(data[(data[\"BMI\"] >= 18.5) & (data[\"BMI\"] < 25)])) \n",
    "print(len(data[(data[\"BMI\"] >= 25) & (data[\"BMI\"] < 30)]))\n",
    "#Let's see how many patients have a BMI between 30 and 35\n",
    "print(len(data[(data[\"BMI\"] >= 30) & (data[\"BMI\"] < 35)]))\n",
    "\n",
    "#Let's see how many patients have a BMI between 35 and 40\n",
    "print(len(data[(data[\"BMI\"] >= 35) & (data[\"BMI\"] < 40)]))\n",
    "\n",
    "#Let's see how many patients have a BMI greater than 40\n",
    "print(len(data[(data[\"BMI\"] >= 40)]))"
   ]
  },
  {
   "cell_type": "markdown",
   "metadata": {},
   "source": [
    "Other Covariates: age, gender, class of obesity, metabolic classes (obesity + hypertension)\n",
    "\n",
    "Metabolically unhealthy:\n",
    "Y – any (HTN, DM, HLD, CKD)\n",
    "n – none\n",
    "y – HTN+DM+HLD (cardiovascular disease definition)\n",
    "Categorize as 0-4 factors present"
   ]
  }
 ],
 "metadata": {
  "kernelspec": {
   "display_name": "rcc",
   "language": "python",
   "name": "python3"
  },
  "language_info": {
   "codemirror_mode": {
    "name": "ipython",
    "version": 3
   },
   "file_extension": ".py",
   "mimetype": "text/x-python",
   "name": "python",
   "nbconvert_exporter": "python",
   "pygments_lexer": "ipython3",
   "version": "3.12.1"
  }
 },
 "nbformat": 4,
 "nbformat_minor": 2
}
